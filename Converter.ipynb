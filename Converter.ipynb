{
  "nbformat": 4,
  "nbformat_minor": 0,
  "metadata": {
    "colab": {
      "name": "Converter.ipynb",
      "provenance": [],
      "authorship_tag": "ABX9TyO5l4+j8TWvGYs3waf+u+XH"
    },
    "kernelspec": {
      "name": "python3",
      "display_name": "Python 3"
    },
    "language_info": {
      "name": "python"
    }
  },
  "cells": [
    {
      "cell_type": "code",
      "metadata": {
        "id": "z__i70UnPw9t"
      },
      "source": [
        "#Binary Conversions\n",
        "def BinToDec(num):\n",
        "  s = 0\n",
        "  a = len(str(num)) - 1\n",
        "  for i in str(num):\n",
        "    add = 2**a * int(i)\n",
        "    s += add\n",
        "    a -= 1\n",
        "  return str(s)\n",
        "\n",
        "def createMap(bin_oct_map):\n",
        "    bin_oct_map[\"000\"] = '0'\n",
        "    bin_oct_map[\"001\"] = '1'\n",
        "    bin_oct_map[\"010\"] = '2'\n",
        "    bin_oct_map[\"011\"] = '3'\n",
        "    bin_oct_map[\"100\"] = '4'\n",
        "    bin_oct_map[\"101\"] = '5'\n",
        "    bin_oct_map[\"110\"] = '6'\n",
        "    bin_oct_map[\"111\"] = '7'\n",
        "\n",
        "def BinToOct(num):\n",
        "  l = len(num)\n",
        "\n",
        "  len_left = l\n",
        "\n",
        "  for i in range(1, (3 - len_left % 3) % 3 + 1):\n",
        "        num = '0' + num\n",
        "\n",
        "  bin_oct_map = {}\n",
        "  createMap(bin_oct_map)\n",
        "  i = 0\n",
        "  octal = \"\"\n",
        "  \n",
        "  while (True) :\n",
        "    octal += bin_oct_map[num[i:i + 3]]\n",
        "    i += 3\n",
        "    if (i == len(num)):\n",
        "      break\n",
        "  return str(octal)\n",
        "\n",
        "def createMap2(bin_hex_map):\n",
        "    bin_hex_map[\"0000\"] = '0'\n",
        "    bin_hex_map[\"0001\"] = '1'\n",
        "    bin_hex_map[\"0010\"] = '2'\n",
        "    bin_hex_map[\"0011\"] = '3'\n",
        "    bin_hex_map[\"0100\"] = '4'\n",
        "    bin_hex_map[\"0101\"] = '5'\n",
        "    bin_hex_map[\"0110\"] = '6'\n",
        "    bin_hex_map[\"0111\"] = '7'\n",
        "    bin_hex_map[\"1000\"] = '8'\n",
        "    bin_hex_map[\"1001\"] = '9'\n",
        "    bin_hex_map[\"1010\"] = 'A'\n",
        "    bin_hex_map[\"1011\"] = 'B'\n",
        "    bin_hex_map[\"1100\"] = 'C'\n",
        "    bin_hex_map[\"1101\"] = 'D'\n",
        "    bin_hex_map[\"1110\"] = 'E'\n",
        "    bin_hex_map[\"1111\"] = 'F'\n",
        "\n",
        "def BinToHex(num):\n",
        "  l = len(num)\n",
        "\n",
        "  len_left = l\n",
        "\n",
        "  for i in range(1, (4 - len_left % 4) % 4 + 1):\n",
        "        num = '0' + num\n",
        "\n",
        "  bin_hex_map = {}\n",
        "  createMap2(bin_hex_map)\n",
        "  i = 0\n",
        "  hex = \"\"\n",
        "  \n",
        "  while (True) :\n",
        "    hex += bin_hex_map[num[i:i + 4]]\n",
        "    i += 4\n",
        "    if (i == len(num)):\n",
        "      break\n",
        "  return str(hex)\n"
      ],
      "execution_count": null,
      "outputs": []
    },
    {
      "cell_type": "code",
      "metadata": {
        "id": "Wg4Zj0B2U8ey"
      },
      "source": [
        "#Decimal Conversions\n",
        "def DecToBin(num):\n",
        "  dec =  int(num)\n",
        "  binn = \"\"\n",
        "  while dec>1:\n",
        "    x = dec%2\n",
        "    binn += str(x)\n",
        "    dec //=2\n",
        "  binn += str(dec)\n",
        "  return \"\".join(reversed(binn))\n",
        "\n",
        "def DecToHex(num):\n",
        "  n = int(num)  \n",
        "  x = (n % 16)\n",
        "  ch = \"\"\n",
        "  if (x < 10):\n",
        "      ch = x\n",
        "  if (x == 10):\n",
        "      ch = \"A\"\n",
        "  if (x == 11):\n",
        "      ch = \"B\"\n",
        "  if (x == 12):\n",
        "      ch = \"ch\"\n",
        "  if (x == 13):\n",
        "      ch = \"D\"\n",
        "  if (x == 14):\n",
        "      ch = \"E\"\n",
        "  if (x == 15):\n",
        "      ch = \"F\"\n",
        "  if (n - x != 0):\n",
        "      return DecToHex(n // 16) + str(ch)\n",
        "  else:\n",
        "      return str(ch)\n",
        "\n",
        "def DecToOct(num):\n",
        "  octalnum = \"\"\n",
        "  i = 0\n",
        "  n = int(num)\n",
        "  while n!=0:\n",
        "    octalnum += str(n % 8)\n",
        "    n = int(n / 8)\n",
        "    i += 1\n",
        "  return ''.join(reversed(octalnum))"
      ],
      "execution_count": null,
      "outputs": []
    },
    {
      "cell_type": "code",
      "metadata": {
        "id": "6Ynj_RuQjjMy"
      },
      "source": [
        "#Hexadecimal conversions\n",
        "def createMap3(bin_hex_map):\n",
        "    bin_hex_map[\"0\"] = '0000'\n",
        "    bin_hex_map[\"1\"] = '0001'\n",
        "    bin_hex_map[\"2\"] = '0010'\n",
        "    bin_hex_map[\"3\"] = '0011'\n",
        "    bin_hex_map[\"4\"] = '0100'\n",
        "    bin_hex_map[\"5\"] = '0101'\n",
        "    bin_hex_map[\"6\"] = '0110'\n",
        "    bin_hex_map[\"7\"] = '0111'\n",
        "    bin_hex_map[\"8\"] = '1000'\n",
        "    bin_hex_map[\"9\"] = '1001'\n",
        "    bin_hex_map[\"A\"] = '1010'\n",
        "    bin_hex_map[\"B\"] = '1011'\n",
        "    bin_hex_map[\"C\"] = '1100'\n",
        "    bin_hex_map[\"D\"] = '1101'\n",
        "    bin_hex_map[\"E\"] = '1110'\n",
        "    bin_hex_map[\"F\"] = '1111'\n",
        "\n",
        "def HexToBin(num):\n",
        "  bin_hex_map = {}\n",
        "  createMap3(bin_hex_map)\n",
        "  bina = \"\"\n",
        "  for i in num:\n",
        "    bina += bin_hex_map[i]\n",
        "  return bina"
      ],
      "execution_count": null,
      "outputs": []
    },
    {
      "cell_type": "code",
      "metadata": {
        "id": "4MdaejcQjlmh"
      },
      "source": [
        "#Octal conversions\n",
        "def createMap4(bin_oct_map):\n",
        "    bin_oct_map[\"0\"] = '000'\n",
        "    bin_oct_map[\"1\"] = '001'\n",
        "    bin_oct_map[\"2\"] = '010'\n",
        "    bin_oct_map[\"3\"] = '011'\n",
        "    bin_oct_map[\"4\"] = '100'\n",
        "    bin_oct_map[\"5\"] = '101'\n",
        "    bin_oct_map[\"6\"] = '110'\n",
        "    bin_oct_map[\"7\"] = '111'\n",
        "\n",
        "def OctToBin(num):\n",
        "  bin_oct_map = {}\n",
        "  createMap4(bin_oct_map)\n",
        "  deca = \"\"\n",
        "  for i in num:\n",
        "    deca += bin_oct_map[i]\n",
        "  return deca"
      ],
      "execution_count": null,
      "outputs": []
    },
    {
      "cell_type": "code",
      "metadata": {
        "colab": {
          "base_uri": "https://localhost:8080/",
          "height": 286
        },
        "id": "kwajxURyi5hv",
        "outputId": "1356367a-52cc-4676-9597-1b5c13eb6c8b"
      },
      "source": [
        "while True:\n",
        "  from_convert = input(\"Enter number system from which you want to convert(d/b/h/o/quit): \")\n",
        "  num = input(\"Enter query: \")\n",
        "  if from_convert == \"b\":\n",
        "    print(\"Decimal: \"+BinToDec(int(num)))\n",
        "    print(\"Octal: \"+BinToOct(num))\n",
        "    print(\"Hexadecimal: \"+BinToHex(num))\n",
        "  elif from_convert == \"d\":\n",
        "    print(\"Binary: \"+DecToBin(num))\n",
        "    print(\"Octal: \"+DecToOct(num))\n",
        "    print(\"Hexadecimal: \"+DecToHex(num))\n",
        "  elif from_convert == \"h\":\n",
        "    print(\"Binary: \"+HexToBin(num))\n",
        "    print(\"Decimal: \"+BinToDec(HexToBin(num)))\n",
        "    print(\"Octal: \"+BinToOct(HexToBin(num)))\n",
        "  elif from_convert == \"o\":\n",
        "    print(\"Binary: \"+OctToBin(num))\n",
        "    print(\"Decimal: \"+BinToDec(OctToBin(num)))\n",
        "    print(\"Hex: \"+BinToHex(OctToBin(num)))\n",
        "  elif from_convert == \"quit\":\n",
        "    break\n",
        "  else: \n",
        "    print(\"Wrong input\")"
      ],
      "execution_count": null,
      "outputs": [
        {
          "output_type": "stream",
          "name": "stdout",
          "text": [
            "Enter number system from which you want to convert(d/b/h/o/quit): h\n",
            "Enter query: 6A\n",
            "Binary: 01101010\n"
          ]
        },
        {
          "output_type": "error",
          "ename": "TypeError",
          "evalue": "ignored",
          "traceback": [
            "\u001b[0;31m---------------------------------------------------------------------------\u001b[0m",
            "\u001b[0;31mTypeError\u001b[0m                                 Traceback (most recent call last)",
            "\u001b[0;32m<ipython-input-88-fab9cb4dc700>\u001b[0m in \u001b[0;36m<module>\u001b[0;34m()\u001b[0m\n\u001b[1;32m     12\u001b[0m   \u001b[0;32melif\u001b[0m \u001b[0mfrom_convert\u001b[0m \u001b[0;34m==\u001b[0m \u001b[0;34m\"h\"\u001b[0m\u001b[0;34m:\u001b[0m\u001b[0;34m\u001b[0m\u001b[0;34m\u001b[0m\u001b[0m\n\u001b[1;32m     13\u001b[0m     \u001b[0mprint\u001b[0m\u001b[0;34m(\u001b[0m\u001b[0;34m\"Binary: \"\u001b[0m\u001b[0;34m+\u001b[0m\u001b[0mHexToBin\u001b[0m\u001b[0;34m(\u001b[0m\u001b[0mnum\u001b[0m\u001b[0;34m)\u001b[0m\u001b[0;34m)\u001b[0m\u001b[0;34m\u001b[0m\u001b[0;34m\u001b[0m\u001b[0m\n\u001b[0;32m---> 14\u001b[0;31m     \u001b[0mprint\u001b[0m\u001b[0;34m(\u001b[0m\u001b[0;34m\"Decimal: \"\u001b[0m\u001b[0;34m+\u001b[0m\u001b[0mBinToDec\u001b[0m\u001b[0;34m(\u001b[0m\u001b[0mHexToBin\u001b[0m\u001b[0;34m(\u001b[0m\u001b[0mnum\u001b[0m\u001b[0;34m)\u001b[0m\u001b[0;34m)\u001b[0m\u001b[0;34m)\u001b[0m\u001b[0;34m\u001b[0m\u001b[0;34m\u001b[0m\u001b[0m\n\u001b[0m\u001b[1;32m     15\u001b[0m     \u001b[0mprint\u001b[0m\u001b[0;34m(\u001b[0m\u001b[0;34m\"Octal: \"\u001b[0m\u001b[0;34m+\u001b[0m\u001b[0mBinToOct\u001b[0m\u001b[0;34m(\u001b[0m\u001b[0mHexToBin\u001b[0m\u001b[0;34m(\u001b[0m\u001b[0mnum\u001b[0m\u001b[0;34m)\u001b[0m\u001b[0;34m)\u001b[0m\u001b[0;34m)\u001b[0m\u001b[0;34m\u001b[0m\u001b[0;34m\u001b[0m\u001b[0m\n\u001b[1;32m     16\u001b[0m   \u001b[0;32melif\u001b[0m \u001b[0mfrom_convert\u001b[0m \u001b[0;34m==\u001b[0m \u001b[0;34m\"o\"\u001b[0m\u001b[0;34m:\u001b[0m\u001b[0;34m\u001b[0m\u001b[0;34m\u001b[0m\u001b[0m\n",
            "\u001b[0;31mTypeError\u001b[0m: can only concatenate str (not \"int\") to str"
          ]
        }
      ]
    },
    {
      "cell_type": "code",
      "metadata": {
        "id": "qYG94dfTpT4p"
      },
      "source": [
        ""
      ],
      "execution_count": null,
      "outputs": []
    }
  ]
}